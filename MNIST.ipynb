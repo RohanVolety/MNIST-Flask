{
 "cells": [
  {
   "cell_type": "code",
   "execution_count": 4,
   "id": "cdf2edc7",
   "metadata": {},
   "outputs": [],
   "source": [
    "import pandas as pd\n",
    "import numpy as np\n",
    "# from keras.preprocessing.image import img_to_array, load_img\n",
    "from tensorflow.keras.utils import img_to_array, load_img\n",
    "import tensorflow as tf\n",
    "import matplotlib.pyplot as plt"
   ]
  },
  {
   "cell_type": "code",
   "execution_count": 5,
   "metadata": {},
   "outputs": [
    {
     "data": {
      "text/html": [
       "<div>\n",
       "<style scoped>\n",
       "    .dataframe tbody tr th:only-of-type {\n",
       "        vertical-align: middle;\n",
       "    }\n",
       "\n",
       "    .dataframe tbody tr th {\n",
       "        vertical-align: top;\n",
       "    }\n",
       "\n",
       "    .dataframe thead th {\n",
       "        text-align: right;\n",
       "    }\n",
       "</style>\n",
       "<table border=\"1\" class=\"dataframe\">\n",
       "  <thead>\n",
       "    <tr style=\"text-align: right;\">\n",
       "      <th></th>\n",
       "      <th>filename</th>\n",
       "      <th>label</th>\n",
       "    </tr>\n",
       "  </thead>\n",
       "  <tbody>\n",
       "    <tr>\n",
       "      <th>0</th>\n",
       "      <td>0.png</td>\n",
       "      <td>4</td>\n",
       "    </tr>\n",
       "    <tr>\n",
       "      <th>1</th>\n",
       "      <td>1.png</td>\n",
       "      <td>9</td>\n",
       "    </tr>\n",
       "    <tr>\n",
       "      <th>2</th>\n",
       "      <td>2.png</td>\n",
       "      <td>1</td>\n",
       "    </tr>\n",
       "    <tr>\n",
       "      <th>3</th>\n",
       "      <td>3.png</td>\n",
       "      <td>7</td>\n",
       "    </tr>\n",
       "    <tr>\n",
       "      <th>4</th>\n",
       "      <td>4.png</td>\n",
       "      <td>3</td>\n",
       "    </tr>\n",
       "  </tbody>\n",
       "</table>\n",
       "</div>"
      ],
      "text/plain": [
       "  filename  label\n",
       "0    0.png      4\n",
       "1    1.png      9\n",
       "2    2.png      1\n",
       "3    3.png      7\n",
       "4    4.png      3"
      ]
     },
     "execution_count": 5,
     "metadata": {},
     "output_type": "execute_result"
    }
   ],
   "source": [
    "df = pd.read_csv('train.csv')\n",
    "df.head()"
   ]
  },
  {
   "cell_type": "code",
   "execution_count": 6,
   "metadata": {},
   "outputs": [],
   "source": [
    "image_path = 'Images/train/'"
   ]
  },
  {
   "cell_type": "code",
   "execution_count": 7,
   "metadata": {},
   "outputs": [],
   "source": [
    "X = []\n",
    "for filename in df['filename']:\n",
    "    img = img_to_array(load_img(image_path + filename, target_size=(28, 28, 1), color_mode='grayscale'))\n",
    "    X.append(img)\n",
    "X = np.array(X, dtype='float32')"
   ]
  },
  {
   "cell_type": "code",
   "execution_count": 8,
   "metadata": {},
   "outputs": [],
   "source": [
    "y = df['label']"
   ]
  },
  {
   "cell_type": "code",
   "execution_count": 9,
   "metadata": {},
   "outputs": [
    {
     "name": "stdout",
     "output_type": "stream",
     "text": [
      "(49000, 28, 28, 1) (49000,)\n"
     ]
    }
   ],
   "source": [
    "print(X.shape, y.shape)"
   ]
  },
  {
   "cell_type": "markdown",
   "metadata": {},
   "source": [
    "### EDA"
   ]
  },
  {
   "cell_type": "code",
   "execution_count": 10,
   "metadata": {},
   "outputs": [
    {
     "name": "stdout",
     "output_type": "stream",
     "text": [
      "4\n"
     ]
    },
    {
     "data": {
      "text/plain": [
       "<matplotlib.image.AxesImage at 0x24bacc4c610>"
      ]
     },
     "execution_count": 10,
     "metadata": {},
     "output_type": "execute_result"
    },
    {
     "data": {
      "image/png": "[encoded data removed]",
      "text/plain": [
       "<Figure size 640x480 with 1 Axes>"
      ]
     },
     "metadata": {},
     "output_type": "display_data"
    }
   ],
   "source": [
    "image_index = 0\n",
    "print(y[image_index])\n",
    "plt.imshow(X[image_index].reshape(28,28))"
   ]
  },
  {
   "cell_type": "code",
   "execution_count": 11,
   "metadata": {},
   "outputs": [
    {
     "name": "stdout",
     "output_type": "stream",
     "text": [
      "9\n"
     ]
    },
    {
     "data": {
      "text/plain": [
       "<matplotlib.image.AxesImage at 0x24baccb4bb0>"
      ]
     },
     "execution_count": 11,
     "metadata": {},
     "output_type": "execute_result"
    },
    {
     "data": {
      "image/png": "[encoded data removed]",
      "text/plain": [
       "<Figure size 640x480 with 1 Axes>"
      ]
     },
     "metadata": {},
     "output_type": "display_data"
    }
   ],
   "source": [
    "image_index = 5\n",
    "print(y[image_index])\n",
    "plt.imshow(X[image_index].reshape(28, 28),)"
   ]
  },
  {
   "cell_type": "markdown",
   "metadata": {},
   "source": [
    "### Train-Test split"
   ]
  },
  {
   "cell_type": "code",
   "execution_count": 12,
   "metadata": {},
   "outputs": [],
   "source": [
    "from sklearn.model_selection import train_test_split\n",
    "x_train, x_test, y_train, y_test = train_test_split(\n",
    "    X, y, test_size=0.25, random_state=40, stratify=np.array(y))"
   ]
  },
  {
   "cell_type": "markdown",
   "metadata": {},
   "source": [
    "### Normalization"
   ]
  },
  {
   "cell_type": "code",
   "execution_count": 13,
   "metadata": {},
   "outputs": [],
   "source": [
    "\n",
    "x_train /= 255\n",
    "x_test /= 255"
   ]
  },
  {
   "cell_type": "markdown",
   "metadata": {},
   "source": [
    "### Model Creation"
   ]
  },
  {
   "cell_type": "code",
   "execution_count": 14,
   "metadata": {},
   "outputs": [],
   "source": [
    "from tensorflow.keras.layers import Dense, Conv2D, Dropout, Flatten, MaxPooling2D\n",
    "from tensorflow.keras.models import Sequential\n",
    "from tensorflow.keras.optimizers import Adam"
   ]
  },
  {
   "cell_type": "code",
   "execution_count": 15,
   "metadata": {},
   "outputs": [],
   "source": [
    "input_shape = (28, 28, 1)\n",
    "output_class = 10\n",
    "#Model\n",
    "model = Sequential()\n",
    "model.add(Conv2D(28, kernel_size=(3, 3), input_shape=input_shape, activation='relu'))\n",
    "model.add(MaxPooling2D(pool_size=(2, 2)))\n",
    "model.add(Flatten())\n",
    "model.add(Dense(128, activation='relu'))\n",
    "model.add(Dropout(0.3))\n",
    "model.add(Dense(64, activation='relu'))  \n",
    "model.add(Dropout(0.3))  \n",
    "model.add(Dense(output_class, activation='softmax'))\n",
    "\n",
    "optimizer = Adam(learning_rate=0.001)\n",
    "\n",
    "model.compile(optimizer=optimizer,\n",
    "              loss='sparse_categorical_crossentropy',\n",
    "              metrics=['accuracy'])"
   ]
  },
  {
   "cell_type": "code",
   "execution_count": 16,
   "metadata": {},
   "outputs": [
    {
     "name": "stdout",
     "output_type": "stream",
     "text": [
      "Epoch 1/25\n",
      "1149/1149 [==============================] - 28s 24ms/step - loss: 0.3763 - accuracy: 0.8840 - val_loss: 0.1072 - val_accuracy: 0.9678\n",
      "Epoch 2/25\n",
      "1149/1149 [==============================] - 18s 16ms/step - loss: 0.1370 - accuracy: 0.9612 - val_loss: 0.0857 - val_accuracy: 0.9746\n",
      "Epoch 3/25\n",
      "1149/1149 [==============================] - 19s 16ms/step - loss: 0.0977 - accuracy: 0.9722 - val_loss: 0.0671 - val_accuracy: 0.9815\n",
      "Epoch 4/25\n",
      "1149/1149 [==============================] - 22s 19ms/step - loss: 0.0749 - accuracy: 0.9783 - val_loss: 0.0799 - val_accuracy: 0.9771\n",
      "Epoch 5/25\n",
      "1149/1149 [==============================] - 21s 18ms/step - loss: 0.0615 - accuracy: 0.9819 - val_loss: 0.0714 - val_accuracy: 0.9808\n",
      "Epoch 6/25\n",
      "1149/1149 [==============================] - 22s 19ms/step - loss: 0.0514 - accuracy: 0.9840 - val_loss: 0.0602 - val_accuracy: 0.9819\n",
      "Epoch 7/25\n",
      "1149/1149 [==============================] - 20s 17ms/step - loss: 0.0459 - accuracy: 0.9854 - val_loss: 0.0698 - val_accuracy: 0.9824\n",
      "Epoch 8/25\n",
      "1149/1149 [==============================] - 20s 18ms/step - loss: 0.0392 - accuracy: 0.9877 - val_loss: 0.0639 - val_accuracy: 0.9841\n",
      "Epoch 9/25\n",
      "1149/1149 [==============================] - 22s 19ms/step - loss: 0.0323 - accuracy: 0.9896 - val_loss: 0.0638 - val_accuracy: 0.9851\n",
      "Epoch 10/25\n",
      "1149/1149 [==============================] - 22s 19ms/step - loss: 0.0298 - accuracy: 0.9911 - val_loss: 0.0628 - val_accuracy: 0.9861\n",
      "Epoch 11/25\n",
      "1149/1149 [==============================] - 23s 20ms/step - loss: 0.0269 - accuracy: 0.9915 - val_loss: 0.0699 - val_accuracy: 0.9838\n",
      "Epoch 12/25\n",
      "1149/1149 [==============================] - 24s 21ms/step - loss: 0.0240 - accuracy: 0.9930 - val_loss: 0.0710 - val_accuracy: 0.9833\n",
      "Epoch 13/25\n",
      "1149/1149 [==============================] - 26s 23ms/step - loss: 0.0216 - accuracy: 0.9934 - val_loss: 0.0748 - val_accuracy: 0.9847\n",
      "Epoch 14/25\n",
      "1149/1149 [==============================] - 29s 25ms/step - loss: 0.0233 - accuracy: 0.9930 - val_loss: 0.0705 - val_accuracy: 0.9846\n",
      "Epoch 15/25\n",
      "1149/1149 [==============================] - 28s 24ms/step - loss: 0.0174 - accuracy: 0.9943 - val_loss: 0.0741 - val_accuracy: 0.9856\n",
      "Epoch 16/25\n",
      "1149/1149 [==============================] - 34s 30ms/step - loss: 0.0177 - accuracy: 0.9943 - val_loss: 0.0698 - val_accuracy: 0.9847\n",
      "Epoch 17/25\n",
      "1149/1149 [==============================] - 27s 23ms/step - loss: 0.0149 - accuracy: 0.9955 - val_loss: 0.0780 - val_accuracy: 0.9861\n",
      "Epoch 18/25\n",
      "1149/1149 [==============================] - 25s 22ms/step - loss: 0.0159 - accuracy: 0.9950 - val_loss: 0.0836 - val_accuracy: 0.9842\n",
      "Epoch 19/25\n",
      "1149/1149 [==============================] - 27s 24ms/step - loss: 0.0155 - accuracy: 0.9950 - val_loss: 0.0805 - val_accuracy: 0.9852\n",
      "Epoch 20/25\n",
      "1149/1149 [==============================] - 28s 24ms/step - loss: 0.0125 - accuracy: 0.9959 - val_loss: 0.0862 - val_accuracy: 0.9861\n",
      "Epoch 21/25\n",
      "1149/1149 [==============================] - 28s 24ms/step - loss: 0.0145 - accuracy: 0.9956 - val_loss: 0.0921 - val_accuracy: 0.9843\n",
      "Epoch 22/25\n",
      "1149/1149 [==============================] - 28s 24ms/step - loss: 0.0125 - accuracy: 0.9959 - val_loss: 0.0794 - val_accuracy: 0.9868\n",
      "Epoch 23/25\n",
      "1149/1149 [==============================] - 29s 25ms/step - loss: 0.0111 - accuracy: 0.9965 - val_loss: 0.0853 - val_accuracy: 0.9870\n",
      "Epoch 24/25\n",
      "1149/1149 [==============================] - 28s 25ms/step - loss: 0.0118 - accuracy: 0.9962 - val_loss: 0.0764 - val_accuracy: 0.9875\n",
      "Epoch 25/25\n",
      "1149/1149 [==============================] - 32s 28ms/step - loss: 0.0117 - accuracy: 0.9965 - val_loss: 0.0965 - val_accuracy: 0.9856\n"
     ]
    },
    {
     "data": {
      "text/plain": [
       "<keras.callbacks.History at 0x24bc30c19d0>"
      ]
     },
     "execution_count": 16,
     "metadata": {},
     "output_type": "execute_result"
    }
   ],
   "source": [
    "\n",
    "#Model Training\n",
    "model.fit(x=x_train, y=y_train, batch_size=32,\n",
    "          epochs=25, validation_data=(x_test, y_test))"
   ]
  },
  {
   "cell_type": "markdown",
   "metadata": {},
   "source": [
    "### Testing Model"
   ]
  },
  {
   "cell_type": "code",
   "execution_count": 17,
   "metadata": {},
   "outputs": [
    {
     "name": "stdout",
     "output_type": "stream",
     "text": [
      "Predicted output: 4\n"
     ]
    },
    {
     "data": {
      "image/png": "[encoded data removed]",
      "text/plain": [
       "<Figure size 640x480 with 1 Axes>"
      ]
     },
     "metadata": {},
     "output_type": "display_data"
    }
   ],
   "source": [
    "image_index = 10\n",
    "plt.imshow(x_test[image_index].reshape(28, 28))\n",
    "pred = model.predict(x_test[image_index].reshape(1, 28, 28, 1))\n",
    "print(\"Predicted output:\", pred.argmax())"
   ]
  },
  {
   "cell_type": "code",
   "execution_count": 18,
   "metadata": {},
   "outputs": [
    {
     "name": "stdout",
     "output_type": "stream",
     "text": [
      "Predicted output: 2\n"
     ]
    },
    {
     "data": {
      "image/png": "[encoded data removed]",
      "text/plain": [
       "<Figure size 640x480 with 1 Axes>"
      ]
     },
     "metadata": {},
     "output_type": "display_data"
    }
   ],
   "source": [
    "image_index = 77\n",
    "plt.imshow(x_test[image_index].reshape(28,28))\n",
    "pred = model.predict(x_test[image_index].reshape(1,28,28,1))\n",
    "print(\"Predicted output:\", pred.argmax())"
   ]
  },
  {
   "cell_type": "code",
   "execution_count": 19,
   "metadata": {},
   "outputs": [],
   "source": [
    "model.save('model_2.h5')"
   ]
  },
  {
   "cell_type": "code",
   "execution_count": null,
   "metadata": {},
   "outputs": [],
   "source": []
  },
  {
   "cell_type": "code",
   "execution_count": null,
   "id": "12131bc8",
   "metadata": {},
   "outputs": [],
   "source": []
  }
 ],
 "metadata": {
  "kernelspec": {
   "display_name": "Python 3 (ipykernel)",
   "language": "python",
   "name": "python3"
  },
  "language_info": {
   "codemirror_mode": {
    "name": "ipython",
    "version": 3
   },
   "file_extension": ".py",
   "mimetype": "text/x-python",
   "name": "python",
   "nbconvert_exporter": "python",
   "pygments_lexer": "ipython3",
   "version": "3.9.5"
  }
 },
 "nbformat": 4,
 "nbformat_minor": 5
}
